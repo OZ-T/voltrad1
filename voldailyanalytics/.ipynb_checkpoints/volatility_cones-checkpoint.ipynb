{
 "cells": [
  {
   "cell_type": "code",
   "execution_count": 63,
   "metadata": {
    "collapsed": false
   },
   "outputs": [],
   "source": [
    "%matplotlib inline"
   ]
  },
  {
   "cell_type": "code",
   "execution_count": 64,
   "metadata": {
    "collapsed": true
   },
   "outputs": [],
   "source": [
    "import sys\n",
    "sys.path.append('/home/david/python/voltrad1')\n",
    "\n",
    "from volsetup import config\n",
    "import datetime as dt\n",
    "import pandas as pd\n",
    "import numpy as np\n",
    "from volibutils.RequestUnderlyingData import RequestUnderlyingData\n",
    "from time import sleep\n",
    "from volibutils.sync_client import IBClient\n",
    "import inspect\n",
    "import time\n",
    "from swigibpy import EPosixClientSocket, ExecutionFilter\n",
    "from swigibpy import EWrapper\n",
    "import swigibpy as sy\n",
    "import sys\n",
    "from volibutils.RequestOptionData import RequestOptionData\n",
    "from datetime import datetime\n",
    "import numpy as np\n",
    "\n",
    "\n",
    "globalconf = config.GlobalConfig()\n",
    "f = globalconf.open_historical_store()\n",
    "df1=pd.DataFrame()\n",
    "#list = ['/AAPL','/AMZN','/ES/20160916','/ES/20161216','/ES/20170317','/GOOG','/IWM','/NDX','/ORCL','/QQQ','/SPX','/SPY','/USO','/VIX']\n",
    "list= ['/SPY']\n",
    "for path_h5 in list:\n",
    "    node = f.get_node(path_h5)\n",
    "    temp = f.select(node._v_pathname)\n",
    "    df1=df1.append(temp)\n",
    "f.close()"
   ]
  },
  {
   "cell_type": "code",
   "execution_count": 65,
   "metadata": {
    "collapsed": false
   },
   "outputs": [
    {
     "name": "stderr",
     "output_type": "stream",
     "text": [
      "/home/david/anaconda2/lib/python2.7/site-packages/ipykernel/__main__.py:5: FutureWarning: how in .resample() is deprecated\n",
      "the new syntax is .resample(...)..apply(<func>)\n"
     ]
    }
   ],
   "source": [
    "df2=df1.reset_index().drop_duplicates(subset='date',keep='last')\n",
    "df2[\"date\"] = pd.to_datetime(df2[\"date\"])\n",
    "df2.index = df2[\"date\"]\n",
    "conversion = {'open': 'first', 'high': 'max', 'low': 'min', 'close': 'last', 'volume': 'sum'}\n",
    "df3=df2.resample('1D',how=conversion)\n",
    "# remove weekends (insertaria sabado y domingo con valor NaN y no calcularia la rolling std)\n",
    "df3=df3[df3.index.dayofweek < 5]"
   ]
  },
  {
   "cell_type": "code",
   "execution_count": 67,
   "metadata": {
    "collapsed": false
   },
   "outputs": [
    {
     "data": {
      "text/plain": [
       "<matplotlib.collections.PathCollection at 0x7f9f84c3d110>"
      ]
     },
     "execution_count": 67,
     "metadata": {},
     "output_type": "execute_result"
    },
    {
     "data": {
      "image/png": "[encoded data removed]",
      "text/plain": [
       "<matplotlib.figure.Figure at 0x7f9f84c9e490>"
      ]
     },
     "metadata": {},
     "output_type": "display_data"
    }
   ],
   "source": [
    "df3['close_Stdev20'] = df3[['close']].rolling(window=20).std()\n",
    "df3['close_Stdev10'] = df3[['close']].rolling(window=10).std()\n",
    "df3['close_Stdev5'] = df3[['close']].rolling(window=5).std()\n",
    "plot=pd.DataFrame()\n",
    "plot1=pd.DataFrame()\n",
    "plot2=pd.DataFrame()\n",
    "plot3=pd.DataFrame()\n",
    "plot1['y']=(df3['close_Stdev5'].dropna().tolist())\n",
    "plot1['x']=5\n",
    "plot=plot.append(plot1)\n",
    "plot2['y']=(df3['close_Stdev10'].dropna().tolist())\n",
    "plot2['x']=10\n",
    "plot=plot.append(plot2)\n",
    "plot3['y']=(df3['close_Stdev20'].dropna().tolist())\n",
    "plot3['x']=20\n",
    "plot=plot.append(plot3)\n",
    "\n",
    "import matplotlib.pylab as plt\n",
    "import matplotlib\n",
    "#matplotlib.use('Agg')\n",
    "plt.scatter(plot.x, plot.y)"
   ]
  }
 ],
 "metadata": {
  "kernelspec": {
   "display_name": "Python 2",
   "language": "python",
   "name": "python2"
  },
  "language_info": {
   "codemirror_mode": {
    "name": "ipython",
    "version": 2
   },
   "file_extension": ".py",
   "mimetype": "text/x-python",
   "name": "python",
   "nbconvert_exporter": "python",
   "pygments_lexer": "ipython2",
   "version": "2.7.11"
  }
 },
 "nbformat": 4,
 "nbformat_minor": 0
}
