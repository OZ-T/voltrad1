{
 "cells": [
  {
   "cell_type": "code",
   "execution_count": 1,
   "metadata": {},
   "outputs": [],
   "source": [
    "###########################################3\n",
    "%matplotlib inline\n",
    "import sys\n",
    "sys.path.append(\"../\")\n",
    "###########################################3\n",
    "\n",
    "import pandas as pd\n",
    "import sqlite3\n",
    "from volsetup.logger import logger\n",
    "from volsetup import config\n",
    "import operations.market_data as ddtt\n",
    "import os\n",
    "globalconf = config.GlobalConfig()\n",
    "import numpy as np\n",
    "from matplotlib.pyplot import *\n",
    "import analytics.dq_report as adr\n",
    "report_dict_ib = {\n",
    "    \"symbols\":['SPY'],\n",
    "    \"expiries\":['2017-07'],\n",
    "    \"db_type\":\"optchain_ib\",\n",
    "    \"variables\":[ 'modelTheta', 'modelDelta', 'modelOptPrice', 'Volume', 'modelImpliedVol',\n",
    "                  'modelUndPrice','modelVega','lastUndPrice', 'modelGamma', 'lastImpliedVol' ],\n",
    "    'current_datetime':'current_datetime',\n",
    "    'symbol':'symbol',\n",
    "    'right':'right',\n",
    "    'strike':'strike',\n",
    "    'expiry':'expiry',\n",
    "    'format_index':\"%Y%m%d%H%M%S\",\n",
    "    'valid_rights': ['P', 'C'],\n",
    "    'filtro_sqlite': \"substr(current_datetime,1,8)\",\n",
    "    'formato_hoy':'%Y%m%d'\n",
    "\n",
    "}\n",
    "\n",
    "\n",
    "report_dict_yhoo = {\n",
    "    \"symbols\":['USO'],\n",
    "    \"expiries\":['2017-07'],\n",
    "    \"db_type\":\"optchain_yhoo\",\n",
    "    \"variables\":[\n",
    "        'IV','Last','Vol','Open_Int','Bid','Ask'],\n",
    "    'current_datetime':'Quote_Time',\n",
    "    'symbol':'Symbol',\n",
    "    'right':'Type',\n",
    "    'strike':'Strike',\n",
    "    'expiry':'Expiry_txt',\n",
    "    'format_index':\"%Y-%m-%d %H:%M:%S\",\n",
    "    'valid_rights':['put','call'],\n",
    "    'filtro_sqlite': \"substr(Quote_time,1,10)\",\n",
    "    'formato_hoy':'%Y-%m-%d'\n",
    "\n",
    "}\n",
    "\n"
   ]
  },
  {
   "cell_type": "code",
   "execution_count": null,
   "metadata": {},
   "outputs": [],
   "source": [
    "dict1 = adr.read_opt_chain_data(globalconf,\"20170616\",report_dict_yhoo)\n",
    "\n",
    "\n"
   ]
  },
  {
   "cell_type": "code",
   "execution_count": null,
   "metadata": {},
   "outputs": [],
   "source": [
    "dict1.keys()"
   ]
  },
  {
   "cell_type": "code",
   "execution_count": null,
   "metadata": {},
   "outputs": [],
   "source": [
    "dict1['modelImpliedVol_SPY_P_ib_expiry_2017-07']"
   ]
  }
 ],
 "metadata": {
  "kernelspec": {
   "display_name": "Python 3",
   "language": "python",
   "name": "python3"
  },
  "language_info": {
   "codemirror_mode": {
    "name": "ipython",
    "version": 3
   },
   "file_extension": ".py",
   "mimetype": "text/x-python",
   "name": "python",
   "nbconvert_exporter": "python",
   "pygments_lexer": "ipython3",
   "version": "3.6.1"
  }
 },
 "nbformat": 4,
 "nbformat_minor": 2
}
