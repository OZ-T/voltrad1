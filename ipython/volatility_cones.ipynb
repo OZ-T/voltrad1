{
 "cells": [
  {
   "cell_type": "code",
   "execution_count": 107,
   "metadata": {
    "collapsed": false
   },
   "outputs": [],
   "source": [
    "%matplotlib inline"
   ]
  },
  {
   "cell_type": "code",
   "execution_count": 112,
   "metadata": {
    "collapsed": true
   },
   "outputs": [],
   "source": [
    "import sys\n",
    "sys.path.append('/home/david/python/voltrad1')\n",
    "\n",
    "from volsetup import config\n",
    "import datetime as dt\n",
    "import pandas as pd\n",
    "import numpy as np\n",
    "from volibutils.RequestUnderlyingData import RequestUnderlyingData\n",
    "from time import sleep\n",
    "from volibutils.sync_client import IBClient\n",
    "import inspect\n",
    "import time\n",
    "from swigibpy import EPosixClientSocket, ExecutionFilter\n",
    "from swigibpy import EWrapper\n",
    "import swigibpy as sy\n",
    "import sys\n",
    "from volibutils.RequestOptionData import RequestOptionData\n",
    "from datetime import datetime\n",
    "import numpy as np\n",
    "\n",
    "\n",
    "globalconf = config.GlobalConfig()\n",
    "f = globalconf.open_historical_store()\n",
    "df1=pd.DataFrame()\n",
    "#list = ['/AAPL','/AMZN','/ES/20160916','/ES/20161216','/ES/20170317','/GOOG','/IWM','/NDX','/ORCL','/QQQ','/SPX','/SPY','/USO','/VIX']\n",
    "list= ['/SPY']\n",
    "for path_h5 in list:\n",
    "    node = f.get_node(path_h5)\n",
    "    temp = f.select(node._v_pathname)\n",
    "    df1=df1.append(temp)\n",
    "f.close()\n",
    "df1.to_excel(\"aaaa.xlsx\")"
   ]
  },
  {
   "cell_type": "code",
   "execution_count": 113,
   "metadata": {
    "collapsed": false
   },
   "outputs": [
    {
     "name": "stderr",
     "output_type": "stream",
     "text": [
      "/home/david/anaconda2/lib/python2.7/site-packages/ipykernel/__main__.py:5: FutureWarning: how in .resample() is deprecated\n",
      "the new syntax is .resample(...)..apply(<func>)\n"
     ]
    }
   ],
   "source": [
    "df2=df1.reset_index().drop_duplicates(subset='date',keep='last')\n",
    "df2[\"date\"] = pd.to_datetime(df2[\"date\"])\n",
    "df2.index = df2[\"date\"]\n",
    "conversion = {'open': 'first', 'high': 'max', 'low': 'min', 'close': 'last', 'volume': 'sum'}\n",
    "df3=df2.resample('1D',how=conversion)\n",
    "# remove weekends (insertaria sabado y domingo con valor NaN y no calcularia la rolling std)\n",
    "df3=df3[df3.index.dayofweek < 5].dropna()"
   ]
  },
  {
   "cell_type": "code",
   "execution_count": 120,
   "metadata": {
    "collapsed": false
   },
   "outputs": [
    {
     "data": {
      "text/html": [
       "<div>\n",
       "<table border=\"1\" class=\"dataframe\">\n",
       "  <thead>\n",
       "    <tr style=\"text-align: right;\">\n",
       "      <th></th>\n",
       "      <th>median</th>\n",
       "      <th>pct90</th>\n",
       "      <th>pct10</th>\n",
       "    </tr>\n",
       "    <tr>\n",
       "      <th>x</th>\n",
       "      <th></th>\n",
       "      <th></th>\n",
       "      <th></th>\n",
       "    </tr>\n",
       "  </thead>\n",
       "  <tbody>\n",
       "    <tr>\n",
       "      <th>5</th>\n",
       "      <td>0.491005</td>\n",
       "      <td>0.990723</td>\n",
       "      <td>0.292287</td>\n",
       "    </tr>\n",
       "    <tr>\n",
       "      <th>10</th>\n",
       "      <td>0.627468</td>\n",
       "      <td>1.098472</td>\n",
       "      <td>0.421678</td>\n",
       "    </tr>\n",
       "    <tr>\n",
       "      <th>20</th>\n",
       "      <td>0.973896</td>\n",
       "      <td>1.031840</td>\n",
       "      <td>0.837354</td>\n",
       "    </tr>\n",
       "  </tbody>\n",
       "</table>\n",
       "</div>"
      ],
      "text/plain": [
       "      median     pct90     pct10\n",
       "x                               \n",
       "5   0.491005  0.990723  0.292287\n",
       "10  0.627468  1.098472  0.421678\n",
       "20  0.973896  1.031840  0.837354"
      ]
     },
     "execution_count": 120,
     "metadata": {},
     "output_type": "execute_result"
    }
   ],
   "source": [
    "df3['close_Stdev20'] = df3[['close']].rolling(window=20).std()\n",
    "df3['close_Stdev10'] = df3[['close']].rolling(window=10).std()\n",
    "df3['close_Stdev5'] = df3[['close']].rolling(window=5).std()\n",
    "plot=pd.DataFrame()\n",
    "plot1=pd.DataFrame()\n",
    "plot2=pd.DataFrame()\n",
    "plot3=pd.DataFrame()\n",
    "#plot1['y']=(df3['close_Stdev5'].dropna().tolist())\n",
    "plot1['median']=[np.median(df3['close_Stdev5'].dropna().tolist())]\n",
    "plot1['pct90']=[np.percentile(df3['close_Stdev5'].dropna().tolist(),90)]\n",
    "plot1['pct10']=[np.percentile(df3['close_Stdev5'].dropna().tolist(),10)]\n",
    "plot1['x']=5\n",
    "plot=plot.append(plot1)\n",
    "#plot2['y']=(df3['close_Stdev10'].dropna().tolist())\n",
    "plot2['median']=[np.median(df3['close_Stdev10'].dropna().tolist())]\n",
    "plot2['pct90']=[np.percentile(df3['close_Stdev10'].dropna().tolist(),90)]\n",
    "plot2['pct10']=[np.percentile(df3['close_Stdev10'].dropna().tolist(),10)]\n",
    "plot2['x']=10\n",
    "plot=plot.append(plot2)\n",
    "#plot3['y']=(df3['close_Stdev20'].dropna().tolist())\n",
    "plot3['median']=[np.median(df3['close_Stdev20'].dropna().tolist())]\n",
    "plot3['pct90']=[np.percentile(df3['close_Stdev20'].dropna().tolist(),90)]\n",
    "plot3['pct10']=[np.percentile(df3['close_Stdev20'].dropna().tolist(),10)]\n",
    "plot3['x']=20\n",
    "df=plot.append(plot3)\n",
    "df.index = df['x']\n",
    "del df['x']\n",
    "df"
   ]
  },
  {
   "cell_type": "code",
   "execution_count": 121,
   "metadata": {
    "collapsed": false
   },
   "outputs": [
    {
     "data": {
      "text/plain": [
       "<matplotlib.axes._subplots.AxesSubplot at 0x7f9f840d1bd0>"
      ]
     },
     "execution_count": 121,
     "metadata": {},
     "output_type": "execute_result"
    },
    {
     "data": {
      "image/png": "[encoded data removed]",
      "text/plain": [
       "<matplotlib.figure.Figure at 0x7f9f8437cc10>"
      ]
     },
     "metadata": {},
     "output_type": "display_data"
    }
   ],
   "source": [
    "import matplotlib.pylab as plt\n",
    "import matplotlib\n",
    "#matplotlib.use('Agg')\n",
    "\n",
    "\n",
    "fig, ax = plt.subplots()\n",
    "\n",
    "df['median'].plot(ax=ax, style='b-')\n",
    "df.pct90.plot(ax=ax, style='r-')\n",
    "df.pct10.plot(ax=ax, style='g-')"
   ]
  }
 ],
 "metadata": {
  "kernelspec": {
   "display_name": "Python 2",
   "language": "python",
   "name": "python2"
  },
  "language_info": {
   "codemirror_mode": {
    "name": "ipython",
    "version": 2.0
   },
   "file_extension": ".py",
   "mimetype": "text/x-python",
   "name": "python",
   "nbconvert_exporter": "python",
   "pygments_lexer": "ipython2",
   "version": "2.7.11"
  }
 },
 "nbformat": 4,
 "nbformat_minor": 0
}