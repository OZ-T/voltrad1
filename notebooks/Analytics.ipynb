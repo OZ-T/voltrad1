{
 "cells": [
  {
   "cell_type": "code",
   "execution_count": 1,
   "metadata": {},
   "outputs": [
    {
     "data": {
      "text/plain": [
       "'/home/david/projectos/voltrad1/notebooks'"
      ]
     },
     "execution_count": 1,
     "metadata": {},
     "output_type": "execute_result"
    }
   ],
   "source": [
    "###########################################\n",
    "%matplotlib inline\n",
    "import sys\n",
    "sys.path.append(\"../\")\n",
    "import pandas as pd\n",
    "import numpy as np\n",
    "### %pip install swigibp pandas etc..\n",
    "###########################################\n",
    "%pwd"
   ]
  },
  {
   "cell_type": "code",
   "execution_count": 2,
   "metadata": {},
   "outputs": [
    {
     "data": {
      "text/plain": [
       "'1.17'"
      ]
     },
     "execution_count": 2,
     "metadata": {},
     "output_type": "execute_result"
    }
   ],
   "source": [
    "#%pip install QuantLib-Python\n",
    "import QuantLib as ql\n",
    "from QuantLib import *\n",
    "import matplotlib.pyplot as plt\n",
    "%matplotlib inline\n",
    "ql.__version__"
   ]
  },
  {
   "cell_type": "code",
   "execution_count": 7,
   "metadata": {},
   "outputs": [
    {
     "name": "stdout",
     "output_type": "stream",
     "text": [
      "1.0360848080146885 -0.09023491373685211 0.006829111163581581 -7.911454619115315 20.754477835412672\n"
     ]
    }
   ],
   "source": [
    "u = SimpleQuote(258)\n",
    "# the length of rate which closest corresponds to the maturity of the option. \n",
    "# This will be true opportunity cost of having capital tied up in option positions \n",
    "#with regard to the risk free rate.\n",
    "r = SimpleQuote(0.00073)\n",
    "sigma = SimpleQuote(0.186779)\n",
    "\n",
    "today = Date(20, November, 2017)\n",
    "Settings.instance().evaluationDate = today\n",
    "option = EuropeanOption(PlainVanillaPayoff(Option.Put, 229),\n",
    "EuropeanExercise(Date(16, February, 2018)))\n",
    "\n",
    "riskFreeCurve = FlatForward(0, TARGET(), QuoteHandle(r), Actual360())\n",
    "volatility = BlackConstantVol(0, TARGET(), QuoteHandle(sigma), Actual360())\n",
    "\n",
    "process = BlackScholesProcess(QuoteHandle(u),\n",
    "                                YieldTermStructureHandle(riskFreeCurve),\n",
    "                                BlackVolTermStructureHandle(volatility))\n",
    "engine = AnalyticEuropeanEngine(process)\n",
    "option.setPricingEngine(engine)\n",
    "print(option.NPV() , option.delta(), option.gamma() , option.theta(), option.vega() )\n"
   ]
  },
  {
   "cell_type": "code",
   "execution_count": 5,
   "metadata": {},
   "outputs": [
    {
     "name": "stdout",
     "output_type": "stream",
     "text": [
      "1.0360848080146885 -0.09023491373685211 0.006829111163581581 -7.911454619115315 20.754477835412672\n"
     ]
    },
    {
     "data": {
      "text/plain": [
       "(1.0360848080146885,\n",
       " -0.09023491373685211,\n",
       " 0.006829111163581581,\n",
       " -7.911454619115315,\n",
       " 20.754477835412672)"
      ]
     },
     "execution_count": 5,
     "metadata": {},
     "output_type": "execute_result"
    }
   ],
   "source": [
    "from valuations.opt_pricing_methods import *\n",
    "\n",
    "bsm_price_and_greeks(underlying_price=258,irate=0.00073,sigma_amt=0.186779,\n",
    "                     valuation_date=\"20171120\",strike=229,expiration_date=\"20180216\",\n",
    "                     option_right_type=\"put\",opt_val_type=\"european\")\n"
   ]
  },
  {
   "cell_type": "code",
   "execution_count": null,
   "metadata": {},
   "outputs": [],
   "source": [
    "import persist.sqlite_methods as pp\n",
    "\n",
    "df= pp.get_yahoo_option_dataframe(\"SPY\", \"2019-12\", \"\", \"\")\n",
    "df.columns\n",
    "df[df[\"Strike\"]==206]\n",
    "subset_df=df.iloc[(df['Strike'] - df['Underlying_Price']).abs().argsort()[:4]]\n",
    "subset_df"
   ]
  },
  {
   "cell_type": "code",
   "execution_count": null,
   "metadata": {},
   "outputs": [],
   "source": [
    "from datetime import date, timedelta\n",
    "\n",
    "start_date = date(2016, 8, 1)\n",
    "end_date = date(2022, 1, 1)\n",
    "\n",
    "from dateutil.relativedelta import relativedelta\n",
    "\n",
    "delta = relativedelta(months=+1)\n",
    "while start_date <= end_date:\n",
    "    print (start_date.strftime(\"%Y-%m\"))\n",
    "    df= pp.get_yahoo_option_dataframe(\"SPY\", start_date.strftime(\"%Y-%m\"), \"\", \"\")\n",
    "    start_date += delta\n",
    "    \n",
    "#db_file = get_market_db_file(db_type, expiry_file)\n",
    "#store = sqlite3.connect(path + db_file)\n",
    "#symbols = dataframe[criteria[\"symbol\"]].unique().tolist()\n",
    "#log.info((\"For expiry: \",expiry,\" these are the symbols included in the data to be loaded:  \", symbols))\n"
   ]
  },
  {
   "cell_type": "code",
   "execution_count": null,
   "metadata": {},
   "outputs": [],
   "source": [
    "df.shape"
   ]
  },
  {
   "cell_type": "code",
   "execution_count": null,
   "metadata": {},
   "outputs": [],
   "source": [
    "df2 = df[(df.Strike == 314.0) & (df.Type == \"call\")]\n",
    "x_col = 'Quote_Time'\n",
    "y_cols = ['Ask','Bid','Last']\n",
    "df2=df2.loc[:,[x_col] + y_cols].dropna()\n",
    "df2.loc[:,y_cols] \\\n",
    "    = df2.loc[:,y_cols].apply(pd.to_numeric, errors='coerce')\n",
    "df2.loc[:,x_col]=pd.to_datetime(df2.loc[:,x_col], format=\"%Y-%m-%d %H:%M:%S\")\n",
    "df2.index = df2[x_col]\n",
    "del df2[x_col]\n",
    "df2.plot()"
   ]
  },
  {
   "cell_type": "code",
   "execution_count": null,
   "metadata": {},
   "outputs": [],
   "source": [
    "\n",
    "##%pip install swigibpy"
   ]
  },
  {
   "cell_type": "code",
   "execution_count": null,
   "metadata": {},
   "outputs": [],
   "source": [
    "import pandas_datareader.data as web\n",
    "symbol=\"GOOG\"\n",
    "source1=\"yahoo\"\n",
    "import datetime\n",
    "#option=web.YahooOptions(symbol, session=None)\n",
    "#all_data = option.get_call_data()\n",
    "#all_data\n",
    "\n",
    "pd = web.DataReader(\n",
    "name=symbol,\n",
    "data_source=source1,\n",
    "start=datetime.datetime(2019,12,27,0,0),\n",
    "end=None,\n",
    "retry_count=3,\n",
    "pause=0.1,\n",
    "session=None\n",
    ")\n",
    "pd"
   ]
  },
  {
   "cell_type": "code",
   "execution_count": null,
   "metadata": {},
   "outputs": [],
   "source": [
    "from core import config\n",
    "globalconf = config.GlobalConfig()\n",
    "optchain_def = globalconf.get_tickers_optchain_yahoo()\n",
    "optchain_def\n",
    "#for _,symbol in optchain_def.iterrows():\n",
    "#        print(\"x [%s]\" % ( str(symbol) ))"
   ]
  }
 ],
 "metadata": {
  "kernelspec": {
   "display_name": "Python 3",
   "language": "python",
   "name": "python3"
  },
  "language_info": {
   "codemirror_mode": {
    "name": "ipython",
    "version": 3
   },
   "file_extension": ".py",
   "mimetype": "text/x-python",
   "name": "python",
   "nbconvert_exporter": "python",
   "pygments_lexer": "ipython3",
   "version": "3.7.5"
  }
 },
 "nbformat": 4,
 "nbformat_minor": 2
}
