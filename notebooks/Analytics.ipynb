{
 "cells": [
  {
   "cell_type": "code",
   "execution_count": 1,
   "metadata": {},
   "outputs": [
    {
     "data": {
      "text/plain": [
       "'/home/david/projectos/voltrad1/notebooks'"
      ]
     },
     "execution_count": 1,
     "metadata": {},
     "output_type": "execute_result"
    }
   ],
   "source": [
    "###########################################\n",
    "%matplotlib inline\n",
    "import sys\n",
    "sys.path.append(\"../\")\n",
    "import pandas as pd\n",
    "import numpy as np\n",
    "### %pip install swigibp pandas etc..\n",
    "###########################################\n",
    "%pwd"
   ]
  },
  {
   "cell_type": "code",
   "execution_count": null,
   "metadata": {},
   "outputs": [],
   "source": [
    "%pip install qgrid\n",
    "#jupyter nbextension enable --py --sys-prefix qgrid"
   ]
  },
  {
   "cell_type": "code",
   "execution_count": null,
   "metadata": {},
   "outputs": [],
   "source": [
    "#%pip install QuantLib-Python\n",
    "import QuantLib as ql\n",
    "from QuantLib import *\n",
    "import matplotlib.pyplot as plt\n",
    "%matplotlib inline\n",
    "ql.__version__"
   ]
  },
  {
   "cell_type": "code",
   "execution_count": null,
   "metadata": {},
   "outputs": [],
   "source": [
    "u = SimpleQuote(258)\n",
    "# the length of rate which closest corresponds to the maturity of the option. \n",
    "# This will be true opportunity cost of having capital tied up in option positions \n",
    "#with regard to the risk free rate.\n",
    "r = SimpleQuote(0.00073)\n",
    "sigma = SimpleQuote(0.186779)\n",
    "\n",
    "today = Date(20, November, 2017)\n",
    "Settings.instance().evaluationDate = today\n",
    "option = EuropeanOption(PlainVanillaPayoff(Option.Put, 229),\n",
    "EuropeanExercise(Date(16, February, 2018)))\n",
    "\n",
    "riskFreeCurve = FlatForward(0, TARGET(), QuoteHandle(r), Actual360())\n",
    "volatility = BlackConstantVol(0, TARGET(), QuoteHandle(sigma), Actual360())\n",
    "\n",
    "process = BlackScholesProcess(QuoteHandle(u),\n",
    "                                YieldTermStructureHandle(riskFreeCurve),\n",
    "                                BlackVolTermStructureHandle(volatility))\n",
    "engine = AnalyticEuropeanEngine(process)\n",
    "option.setPricingEngine(engine)\n",
    "print(option.NPV() , option.delta(), option.gamma() , option.theta(), option.vega() )\n"
   ]
  },
  {
   "cell_type": "code",
   "execution_count": null,
   "metadata": {},
   "outputs": [],
   "source": [
    "from valuations.opt_pricing_methods import *\n",
    "\n",
    "bsm_price_and_greeks(underlying_price=258,irate=0.00073,sigma_amt=0.186779,\n",
    "                     valuation_date=\"20171120\",strike=229,expiration_date=\"20180216\",\n",
    "                     option_right_type=\"put\",opt_val_type=\"european\")\n"
   ]
  },
  {
   "cell_type": "code",
   "execution_count": null,
   "metadata": {},
   "outputs": [],
   "source": [
    "import persist.sqlite_methods as pp\n",
    "\n",
    "df= pp.get_yahoo_option_dataframe(\"SPY\", \"2019-12\", \"\", \"\")\n",
    "df.columns\n",
    "df[df[\"Strike\"]==206]\n",
    "subset_df=df.iloc[(df['Strike'] - df['Underlying_Price']).abs().argsort()[:4]]\n",
    "subset_df"
   ]
  },
  {
   "cell_type": "code",
   "execution_count": null,
   "metadata": {},
   "outputs": [],
   "source": [
    "import persist.sqlite_methods as pp\n",
    "import core.analytics_methods as an\n",
    "df= pp.get_yahoo_underlying_dataframe(symbols=[\"FXE\",\"UNG\"])\n",
    "an.sma(period=2,df=df,symbol=\"Close\")\n",
    "df"
   ]
  },
  {
   "cell_type": "code",
   "execution_count": 5,
   "metadata": {},
   "outputs": [
    {
     "data": {
      "text/html": [
       "<div>\n",
       "<style scoped>\n",
       "    .dataframe tbody tr th:only-of-type {\n",
       "        vertical-align: middle;\n",
       "    }\n",
       "\n",
       "    .dataframe tbody tr th {\n",
       "        vertical-align: top;\n",
       "    }\n",
       "\n",
       "    .dataframe thead th {\n",
       "        text-align: right;\n",
       "    }\n",
       "</style>\n",
       "<table border=\"1\" class=\"dataframe\">\n",
       "  <thead>\n",
       "    <tr style=\"text-align: right;\">\n",
       "      <th></th>\n",
       "      <th>Quote_Time</th>\n",
       "      <th>High</th>\n",
       "      <th>Low</th>\n",
       "      <th>Open</th>\n",
       "      <th>Close</th>\n",
       "      <th>Volume</th>\n",
       "      <th>Adj Close</th>\n",
       "      <th>Quote_Time_txt</th>\n",
       "      <th>Expiry_txt</th>\n",
       "      <th>Symbol</th>\n",
       "      <th>Copp_50</th>\n",
       "      <th>legend</th>\n",
       "    </tr>\n",
       "    <tr>\n",
       "      <th>Date</th>\n",
       "      <th></th>\n",
       "      <th></th>\n",
       "      <th></th>\n",
       "      <th></th>\n",
       "      <th></th>\n",
       "      <th></th>\n",
       "      <th></th>\n",
       "      <th></th>\n",
       "      <th></th>\n",
       "      <th></th>\n",
       "      <th></th>\n",
       "      <th></th>\n",
       "    </tr>\n",
       "  </thead>\n",
       "  <tbody>\n",
       "    <tr>\n",
       "      <th>2014-12-29</th>\n",
       "      <td>2019-12-27 23:43:47.142212</td>\n",
       "      <td>120.180000</td>\n",
       "      <td>119.570000</td>\n",
       "      <td>120.120003</td>\n",
       "      <td>119.669998</td>\n",
       "      <td>303300.0</td>\n",
       "      <td>119.669998</td>\n",
       "      <td>2019-12-27 23:43:47</td>\n",
       "      <td>9999-12-31 23:59:00</td>\n",
       "      <td>FXE</td>\n",
       "      <td>NaN</td>\n",
       "      <td>Negative &amp; Down</td>\n",
       "    </tr>\n",
       "    <tr>\n",
       "      <th>2014-12-30</th>\n",
       "      <td>2019-12-27 23:43:47.142212</td>\n",
       "      <td>119.930000</td>\n",
       "      <td>119.639999</td>\n",
       "      <td>119.839996</td>\n",
       "      <td>119.669998</td>\n",
       "      <td>142400.0</td>\n",
       "      <td>119.669998</td>\n",
       "      <td>2019-12-27 23:43:47</td>\n",
       "      <td>9999-12-31 23:59:00</td>\n",
       "      <td>FXE</td>\n",
       "      <td>NaN</td>\n",
       "      <td>Negative &amp; Down</td>\n",
       "    </tr>\n",
       "    <tr>\n",
       "      <th>2014-12-31</th>\n",
       "      <td>2019-12-27 23:43:47.142212</td>\n",
       "      <td>119.480003</td>\n",
       "      <td>119.110001</td>\n",
       "      <td>119.339996</td>\n",
       "      <td>119.139999</td>\n",
       "      <td>324900.0</td>\n",
       "      <td>119.139999</td>\n",
       "      <td>2019-12-27 23:43:47</td>\n",
       "      <td>9999-12-31 23:59:00</td>\n",
       "      <td>FXE</td>\n",
       "      <td>NaN</td>\n",
       "      <td>Negative &amp; Down</td>\n",
       "    </tr>\n",
       "    <tr>\n",
       "      <th>2015-01-02</th>\n",
       "      <td>2019-12-27 23:43:47.142212</td>\n",
       "      <td>118.459999</td>\n",
       "      <td>118.160004</td>\n",
       "      <td>118.419998</td>\n",
       "      <td>118.199997</td>\n",
       "      <td>497700.0</td>\n",
       "      <td>118.199997</td>\n",
       "      <td>2019-12-27 23:43:47</td>\n",
       "      <td>9999-12-31 23:59:00</td>\n",
       "      <td>FXE</td>\n",
       "      <td>NaN</td>\n",
       "      <td>Negative &amp; Down</td>\n",
       "    </tr>\n",
       "    <tr>\n",
       "      <th>2015-01-05</th>\n",
       "      <td>2019-12-27 23:43:47.142212</td>\n",
       "      <td>117.660004</td>\n",
       "      <td>117.260002</td>\n",
       "      <td>117.269997</td>\n",
       "      <td>117.540001</td>\n",
       "      <td>698700.0</td>\n",
       "      <td>117.540001</td>\n",
       "      <td>2019-12-27 23:43:47</td>\n",
       "      <td>9999-12-31 23:59:00</td>\n",
       "      <td>FXE</td>\n",
       "      <td>NaN</td>\n",
       "      <td>Negative &amp; Down</td>\n",
       "    </tr>\n",
       "    <tr>\n",
       "      <th>...</th>\n",
       "      <td>...</td>\n",
       "      <td>...</td>\n",
       "      <td>...</td>\n",
       "      <td>...</td>\n",
       "      <td>...</td>\n",
       "      <td>...</td>\n",
       "      <td>...</td>\n",
       "      <td>...</td>\n",
       "      <td>...</td>\n",
       "      <td>...</td>\n",
       "      <td>...</td>\n",
       "      <td>...</td>\n",
       "    </tr>\n",
       "    <tr>\n",
       "      <th>2019-12-27</th>\n",
       "      <td>2019-12-28 11:35:59.202423</td>\n",
       "      <td>106.050003</td>\n",
       "      <td>105.752197</td>\n",
       "      <td>105.760002</td>\n",
       "      <td>105.930000</td>\n",
       "      <td>267282.0</td>\n",
       "      <td>105.930000</td>\n",
       "      <td>2019-12-28 11:35:59</td>\n",
       "      <td>9999-12-31 23:59:00</td>\n",
       "      <td>FXE</td>\n",
       "      <td>-0.069771</td>\n",
       "      <td>Negative &amp; Up</td>\n",
       "    </tr>\n",
       "    <tr>\n",
       "      <th>2019-12-27</th>\n",
       "      <td>2019-12-28 11:35:59.202423</td>\n",
       "      <td>106.050003</td>\n",
       "      <td>105.752197</td>\n",
       "      <td>105.760002</td>\n",
       "      <td>105.930000</td>\n",
       "      <td>267282.0</td>\n",
       "      <td>105.930000</td>\n",
       "      <td>2019-12-28 11:35:59</td>\n",
       "      <td>9999-12-31 23:59:00</td>\n",
       "      <td>FXE</td>\n",
       "      <td>-0.068445</td>\n",
       "      <td>Negative &amp; Up</td>\n",
       "    </tr>\n",
       "    <tr>\n",
       "      <th>2019-12-27</th>\n",
       "      <td>2019-12-28 11:35:59.202423</td>\n",
       "      <td>106.050003</td>\n",
       "      <td>105.750000</td>\n",
       "      <td>105.760002</td>\n",
       "      <td>105.930000</td>\n",
       "      <td>267300.0</td>\n",
       "      <td>105.930000</td>\n",
       "      <td>2019-12-28 11:35:59</td>\n",
       "      <td>9999-12-31 23:59:00</td>\n",
       "      <td>FXE</td>\n",
       "      <td>-0.071009</td>\n",
       "      <td>Negative &amp; Down</td>\n",
       "    </tr>\n",
       "    <tr>\n",
       "      <th>2019-12-27</th>\n",
       "      <td>2019-12-28 11:35:59.202423</td>\n",
       "      <td>106.050003</td>\n",
       "      <td>105.750000</td>\n",
       "      <td>105.760002</td>\n",
       "      <td>105.930000</td>\n",
       "      <td>267300.0</td>\n",
       "      <td>105.930000</td>\n",
       "      <td>2019-12-28 11:35:59</td>\n",
       "      <td>9999-12-31 23:59:00</td>\n",
       "      <td>FXE</td>\n",
       "      <td>-0.069771</td>\n",
       "      <td>Negative &amp; Up</td>\n",
       "    </tr>\n",
       "    <tr>\n",
       "      <th>2019-12-27</th>\n",
       "      <td>2019-12-28 11:35:59.202423</td>\n",
       "      <td>106.050003</td>\n",
       "      <td>105.750000</td>\n",
       "      <td>105.760002</td>\n",
       "      <td>105.930000</td>\n",
       "      <td>267300.0</td>\n",
       "      <td>105.930000</td>\n",
       "      <td>2019-12-28 11:35:59</td>\n",
       "      <td>9999-12-31 23:59:00</td>\n",
       "      <td>FXE</td>\n",
       "      <td>-0.068445</td>\n",
       "      <td>Negative &amp; Up</td>\n",
       "    </tr>\n",
       "  </tbody>\n",
       "</table>\n",
       "<p>1267 rows × 12 columns</p>\n",
       "</div>"
      ],
      "text/plain": [
       "                            Quote_Time        High         Low        Open  \\\n",
       "Date                                                                         \n",
       "2014-12-29  2019-12-27 23:43:47.142212  120.180000  119.570000  120.120003   \n",
       "2014-12-30  2019-12-27 23:43:47.142212  119.930000  119.639999  119.839996   \n",
       "2014-12-31  2019-12-27 23:43:47.142212  119.480003  119.110001  119.339996   \n",
       "2015-01-02  2019-12-27 23:43:47.142212  118.459999  118.160004  118.419998   \n",
       "2015-01-05  2019-12-27 23:43:47.142212  117.660004  117.260002  117.269997   \n",
       "...                                ...         ...         ...         ...   \n",
       "2019-12-27  2019-12-28 11:35:59.202423  106.050003  105.752197  105.760002   \n",
       "2019-12-27  2019-12-28 11:35:59.202423  106.050003  105.752197  105.760002   \n",
       "2019-12-27  2019-12-28 11:35:59.202423  106.050003  105.750000  105.760002   \n",
       "2019-12-27  2019-12-28 11:35:59.202423  106.050003  105.750000  105.760002   \n",
       "2019-12-27  2019-12-28 11:35:59.202423  106.050003  105.750000  105.760002   \n",
       "\n",
       "                 Close    Volume   Adj Close       Quote_Time_txt  \\\n",
       "Date                                                                \n",
       "2014-12-29  119.669998  303300.0  119.669998  2019-12-27 23:43:47   \n",
       "2014-12-30  119.669998  142400.0  119.669998  2019-12-27 23:43:47   \n",
       "2014-12-31  119.139999  324900.0  119.139999  2019-12-27 23:43:47   \n",
       "2015-01-02  118.199997  497700.0  118.199997  2019-12-27 23:43:47   \n",
       "2015-01-05  117.540001  698700.0  117.540001  2019-12-27 23:43:47   \n",
       "...                ...       ...         ...                  ...   \n",
       "2019-12-27  105.930000  267282.0  105.930000  2019-12-28 11:35:59   \n",
       "2019-12-27  105.930000  267282.0  105.930000  2019-12-28 11:35:59   \n",
       "2019-12-27  105.930000  267300.0  105.930000  2019-12-28 11:35:59   \n",
       "2019-12-27  105.930000  267300.0  105.930000  2019-12-28 11:35:59   \n",
       "2019-12-27  105.930000  267300.0  105.930000  2019-12-28 11:35:59   \n",
       "\n",
       "                     Expiry_txt Symbol   Copp_50           legend  \n",
       "Date                                                               \n",
       "2014-12-29  9999-12-31 23:59:00    FXE       NaN  Negative & Down  \n",
       "2014-12-30  9999-12-31 23:59:00    FXE       NaN  Negative & Down  \n",
       "2014-12-31  9999-12-31 23:59:00    FXE       NaN  Negative & Down  \n",
       "2015-01-02  9999-12-31 23:59:00    FXE       NaN  Negative & Down  \n",
       "2015-01-05  9999-12-31 23:59:00    FXE       NaN  Negative & Down  \n",
       "...                         ...    ...       ...              ...  \n",
       "2019-12-27  9999-12-31 23:59:00    FXE -0.069771    Negative & Up  \n",
       "2019-12-27  9999-12-31 23:59:00    FXE -0.068445    Negative & Up  \n",
       "2019-12-27  9999-12-31 23:59:00    FXE -0.071009  Negative & Down  \n",
       "2019-12-27  9999-12-31 23:59:00    FXE -0.069771    Negative & Up  \n",
       "2019-12-27  9999-12-31 23:59:00    FXE -0.068445    Negative & Up  \n",
       "\n",
       "[1267 rows x 12 columns]"
      ]
     },
     "execution_count": 5,
     "metadata": {},
     "output_type": "execute_result"
    }
   ],
   "source": [
    "import persist.sqlite_methods as pp\n",
    "import core.analytics_methods as an\n",
    "df= pp.get_yahoo_underlying_dataframe(symbols=[\"FXE\"])\n",
    "\n",
    "df = an.COPP(df, 60, 30, 50, close_nm='Close')\n",
    "df"
   ]
  },
  {
   "cell_type": "code",
   "execution_count": 20,
   "metadata": {},
   "outputs": [
    {
     "data": {
      "text/plain": [
       "Date\n",
       "2014-12-29             NaN\n",
       "2014-12-30    14320.908462\n",
       "2014-12-31    14257.483509\n",
       "2015-01-02    14082.347564\n",
       "2015-01-05    13893.227750\n",
       "                  ...     \n",
       "2019-12-27    11221.164965\n",
       "2019-12-27    11221.164965\n",
       "2019-12-27    11221.164965\n",
       "2019-12-27    11221.164965\n",
       "2019-12-27    11221.164965\n",
       "Length: 1267, dtype: float64"
      ]
     },
     "execution_count": 20,
     "metadata": {},
     "output_type": "execute_result"
    }
   ],
   "source": [
    "def StoCyclesProb(x,x2,x3,x4,x5,x6,x7,x8,x9,x10,deep):\n",
    "    return x * x2\n",
    "symbol=\"Close\"\n",
    "deep=\"uno\"\n",
    "for i in range(1,11):\n",
    "    df[symbol+\"_shift\"+str(i)]=df[symbol].shift(i)\n",
    "deep=\"uno\"\n",
    "df.apply(lambda x: StoCyclesProb(x[symbol], \n",
    "                                 x[symbol+\"_shift1\"],\n",
    "                                 x[symbol+\"_shift2\"],\n",
    "                                 x[symbol+\"_shift3\"],\n",
    "                                 x[symbol+\"_shift4\"],\n",
    "                                 x[symbol+\"_shift5\"],\n",
    "                                 x[symbol+\"_shift6\"],\n",
    "                                 x[symbol+\"_shift7\"],\n",
    "                                 x[symbol+\"_shift8\"],\n",
    "                                 x[symbol+\"_shift9\"],\n",
    "                                 deep), axis=1)\n"
   ]
  },
  {
   "cell_type": "code",
   "execution_count": 6,
   "metadata": {},
   "outputs": [
    {
     "data": {
      "text/plain": [
       "<matplotlib.axes._subplots.AxesSubplot at 0x7f85c6c2b5d0>"
      ]
     },
     "execution_count": 6,
     "metadata": {},
     "output_type": "execute_result"
    },
    {
     "data": {
      "image/png": "[encoded data removed]",
      "text/plain": [
       "<Figure size 432x288 with 1 Axes>"
      ]
     },
     "metadata": {
      "needs_background": "light"
     },
     "output_type": "display_data"
    },
    {
     "data": {
      "image/png": "[encoded data removed]",
      "text/plain": [
       "<Figure size 432x288 with 1 Axes>"
      ]
     },
     "metadata": {
      "needs_background": "light"
     },
     "output_type": "display_data"
    }
   ],
   "source": [
    "import persist.sqlite_methods as pp\n",
    "import core.analytics_methods as an\n",
    "df= pp.get_yahoo_underlying_dataframe(symbols=[\"SPY\"])\n",
    "an.drawdown(period=200,df=df,symbol=\"Close\")\n",
    "an.ReturnsTD(df=df,symbol=\"Close\")\n",
    "df[['Close_Return_BoM','Close_Return_BoY']].plot()\n",
    "df[['Close_Drawdown_200']].plot()\n",
    "#df.to_excel(\"out2.xlsx\")"
   ]
  },
  {
   "cell_type": "code",
   "execution_count": null,
   "metadata": {},
   "outputs": [],
   "source": [
    "from datetime import date, timedelta\n",
    "\n",
    "start_date = date(2016, 8, 1)\n",
    "end_date = date(2022, 1, 1)\n",
    "\n",
    "from dateutil.relativedelta import relativedelta\n",
    "\n",
    "delta = relativedelta(months=+1)\n",
    "while start_date <= end_date:\n",
    "    print (start_date.strftime(\"%Y-%m\"))\n",
    "    df= pp.get_yahoo_option_dataframe(\"SPY\", start_date.strftime(\"%Y-%m\"), \"\", \"\")\n",
    "    start_date += delta\n",
    "    \n",
    "#db_file = get_market_db_file(db_type, expiry_file)\n",
    "#store = sqlite3.connect(path + db_file)\n",
    "#symbols = dataframe[criteria[\"symbol\"]].unique().tolist()\n",
    "#log.info((\"For expiry: \",expiry,\" these are the symbols included in the data to be loaded:  \", symbols))\n"
   ]
  },
  {
   "cell_type": "code",
   "execution_count": null,
   "metadata": {},
   "outputs": [],
   "source": [
    "df.shape"
   ]
  },
  {
   "cell_type": "code",
   "execution_count": null,
   "metadata": {},
   "outputs": [],
   "source": [
    "df2 = df[(df.Strike == 314.0) & (df.Type == \"call\")]\n",
    "x_col = 'Quote_Time'\n",
    "y_cols = ['Ask','Bid','Last']\n",
    "df2=df2.loc[:,[x_col] + y_cols].dropna()\n",
    "df2.loc[:,y_cols] \\\n",
    "    = df2.loc[:,y_cols].apply(pd.to_numeric, errors='coerce')\n",
    "df2.loc[:,x_col]=pd.to_datetime(df2.loc[:,x_col], format=\"%Y-%m-%d %H:%M:%S\")\n",
    "df2.index = df2[x_col]\n",
    "del df2[x_col]\n",
    "df2.plot()"
   ]
  },
  {
   "cell_type": "code",
   "execution_count": null,
   "metadata": {},
   "outputs": [],
   "source": [
    "\n",
    "##%pip install swigibpy"
   ]
  },
  {
   "cell_type": "code",
   "execution_count": null,
   "metadata": {},
   "outputs": [],
   "source": [
    "import pandas_datareader.data as web\n",
    "symbol=\"GOOG\"\n",
    "source1=\"yahoo\"\n",
    "import datetime\n",
    "#option=web.YahooOptions(symbol, session=None)\n",
    "#all_data = option.get_call_data()\n",
    "#all_data\n",
    "\n",
    "pd = web.DataReader(\n",
    "name=symbol,\n",
    "data_source=source1,\n",
    "start=datetime.datetime(2019,12,27,0,0),\n",
    "end=None,\n",
    "retry_count=3,\n",
    "pause=0.1,\n",
    "session=None\n",
    ")\n",
    "pd"
   ]
  },
  {
   "cell_type": "code",
   "execution_count": null,
   "metadata": {},
   "outputs": [],
   "source": [
    "from core import config\n",
    "globalconf = config.GlobalConfig()\n",
    "optchain_def = globalconf.get_tickers_optchain_yahoo()\n",
    "optchain_def\n",
    "#for _,symbol in optchain_def.iterrows():\n",
    "#        print(\"x [%s]\" % ( str(symbol) ))"
   ]
  }
 ],
 "metadata": {
  "kernelspec": {
   "display_name": "Python 3",
   "language": "python",
   "name": "python3"
  },
  "language_info": {
   "codemirror_mode": {
    "name": "ipython",
    "version": 3
   },
   "file_extension": ".py",
   "mimetype": "text/x-python",
   "name": "python",
   "nbconvert_exporter": "python",
   "pygments_lexer": "ipython3",
   "version": "3.7.5"
  }
 },
 "nbformat": 4,
 "nbformat_minor": 2
}
