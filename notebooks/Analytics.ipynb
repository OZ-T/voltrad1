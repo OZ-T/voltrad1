{
 "cells": [
  {
   "cell_type": "code",
   "execution_count": 2,
   "metadata": {},
   "outputs": [
    {
     "data": {
      "text/plain": [
       "'/home/david/projectos/voltrad1/notebooks'"
      ]
     },
     "execution_count": 2,
     "metadata": {},
     "output_type": "execute_result"
    }
   ],
   "source": [
    "###########################################\n",
    "%matplotlib inline\n",
    "import sys\n",
    "sys.path.append(\"../\")\n",
    "import pandas as pd\n",
    "import numpy as np\n",
    "###########################################\n",
    "%pwd"
   ]
  },
  {
   "cell_type": "code",
   "execution_count": 5,
   "metadata": {},
   "outputs": [
    {
     "data": {
      "text/html": [
       "<div>\n",
       "<style>\n",
       "    .dataframe thead tr:only-child th {\n",
       "        text-align: right;\n",
       "    }\n",
       "\n",
       "    .dataframe thead th {\n",
       "        text-align: left;\n",
       "    }\n",
       "\n",
       "    .dataframe tbody tr th {\n",
       "        vertical-align: top;\n",
       "    }\n",
       "</style>\n",
       "<table border=\"1\" class=\"dataframe\">\n",
       "  <thead>\n",
       "    <tr style=\"text-align: right;\">\n",
       "      <th></th>\n",
       "      <th>Quote_Time</th>\n",
       "      <th>Strike</th>\n",
       "      <th>Type</th>\n",
       "      <th>Symbol</th>\n",
       "      <th>Last</th>\n",
       "      <th>Bid</th>\n",
       "      <th>Ask</th>\n",
       "      <th>Chg</th>\n",
       "      <th>PctChg</th>\n",
       "      <th>Vol</th>\n",
       "      <th>...</th>\n",
       "      <th>IV</th>\n",
       "      <th>Root</th>\n",
       "      <th>IsNonstandard</th>\n",
       "      <th>Underlying</th>\n",
       "      <th>Underlying_Price</th>\n",
       "      <th>Last_Trade_Date</th>\n",
       "      <th>JSON</th>\n",
       "      <th>Quote_Time_txt</th>\n",
       "      <th>Last_Trade_Date_txt</th>\n",
       "      <th>Expiry_txt</th>\n",
       "    </tr>\n",
       "  </thead>\n",
       "  <tbody>\n",
       "    <tr>\n",
       "      <th>124279</th>\n",
       "      <td>2019-10-18 14:10:07</td>\n",
       "      <td>299.0</td>\n",
       "      <td>call</td>\n",
       "      <td>SPY191104C00299000</td>\n",
       "      <td>3.20</td>\n",
       "      <td>3.21</td>\n",
       "      <td>3.24</td>\n",
       "      <td>-0.27</td>\n",
       "      <td>-7.780979</td>\n",
       "      <td>7.0</td>\n",
       "      <td>...</td>\n",
       "      <td>0.122323</td>\n",
       "      <td>SPY</td>\n",
       "      <td>0</td>\n",
       "      <td>SPY</td>\n",
       "      <td>299.0</td>\n",
       "      <td>2019-10-18 13:36:49</td>\n",
       "      <td></td>\n",
       "      <td>2019-10-18 14:10:07</td>\n",
       "      <td>2019-10-18 13:36:49</td>\n",
       "      <td>2019-11-04 00:00:00</td>\n",
       "    </tr>\n",
       "    <tr>\n",
       "      <th>16013</th>\n",
       "      <td>2019-08-14 16:10:08</td>\n",
       "      <td>285.0</td>\n",
       "      <td>put</td>\n",
       "      <td>SPY191115P00285000</td>\n",
       "      <td>10.43</td>\n",
       "      <td>10.45</td>\n",
       "      <td>10.51</td>\n",
       "      <td>3.43</td>\n",
       "      <td>49.000004</td>\n",
       "      <td>962.0</td>\n",
       "      <td>...</td>\n",
       "      <td>0.182290</td>\n",
       "      <td>SPY</td>\n",
       "      <td>0</td>\n",
       "      <td>SPY</td>\n",
       "      <td>285.0</td>\n",
       "      <td>2019-08-14 15:44:54</td>\n",
       "      <td></td>\n",
       "      <td>2019-08-14 16:10:08</td>\n",
       "      <td>2019-08-14 15:44:54</td>\n",
       "      <td>2019-11-15 00:00:00</td>\n",
       "    </tr>\n",
       "    <tr>\n",
       "      <th>326158</th>\n",
       "      <td>2019-11-19 16:09:58</td>\n",
       "      <td>311.5</td>\n",
       "      <td>call</td>\n",
       "      <td>SPY191120C00311500</td>\n",
       "      <td>0.93</td>\n",
       "      <td>0.89</td>\n",
       "      <td>0.90</td>\n",
       "      <td>-0.22</td>\n",
       "      <td>-19.130432</td>\n",
       "      <td>2426.0</td>\n",
       "      <td>...</td>\n",
       "      <td>0.097909</td>\n",
       "      <td>SPY</td>\n",
       "      <td>0</td>\n",
       "      <td>SPY</td>\n",
       "      <td>311.5</td>\n",
       "      <td>2019-11-19 15:33:06</td>\n",
       "      <td></td>\n",
       "      <td>2019-11-19 16:09:58</td>\n",
       "      <td>2019-11-19 15:33:06</td>\n",
       "      <td>2019-11-20 00:00:00</td>\n",
       "    </tr>\n",
       "    <tr>\n",
       "      <th>218773</th>\n",
       "      <td>2019-10-31 19:10:07</td>\n",
       "      <td>302.5</td>\n",
       "      <td>call</td>\n",
       "      <td>SPY191122C00302500</td>\n",
       "      <td>3.41</td>\n",
       "      <td>3.40</td>\n",
       "      <td>3.42</td>\n",
       "      <td>-0.77</td>\n",
       "      <td>-18.421047</td>\n",
       "      <td>552.0</td>\n",
       "      <td>...</td>\n",
       "      <td>0.112863</td>\n",
       "      <td>SPY</td>\n",
       "      <td>0</td>\n",
       "      <td>SPY</td>\n",
       "      <td>302.5</td>\n",
       "      <td>2019-10-31 18:53:35</td>\n",
       "      <td></td>\n",
       "      <td>2019-10-31 19:10:07</td>\n",
       "      <td>2019-10-31 18:53:35</td>\n",
       "      <td>2019-11-22 00:00:00</td>\n",
       "    </tr>\n",
       "  </tbody>\n",
       "</table>\n",
       "<p>4 rows × 21 columns</p>\n",
       "</div>"
      ],
      "text/plain": [
       "                 Quote_Time  Strike  Type              Symbol   Last    Bid  \\\n",
       "124279  2019-10-18 14:10:07   299.0  call  SPY191104C00299000   3.20   3.21   \n",
       "16013   2019-08-14 16:10:08   285.0   put  SPY191115P00285000  10.43  10.45   \n",
       "326158  2019-11-19 16:09:58   311.5  call  SPY191120C00311500   0.93   0.89   \n",
       "218773  2019-10-31 19:10:07   302.5  call  SPY191122C00302500   3.41   3.40   \n",
       "\n",
       "          Ask   Chg     PctChg     Vol         ...                 IV  Root  \\\n",
       "124279   3.24 -0.27  -7.780979     7.0         ...           0.122323   SPY   \n",
       "16013   10.51  3.43  49.000004   962.0         ...           0.182290   SPY   \n",
       "326158   0.90 -0.22 -19.130432  2426.0         ...           0.097909   SPY   \n",
       "218773   3.42 -0.77 -18.421047   552.0         ...           0.112863   SPY   \n",
       "\n",
       "       IsNonstandard  Underlying Underlying_Price      Last_Trade_Date JSON  \\\n",
       "124279             0         SPY            299.0  2019-10-18 13:36:49        \n",
       "16013              0         SPY            285.0  2019-08-14 15:44:54        \n",
       "326158             0         SPY            311.5  2019-11-19 15:33:06        \n",
       "218773             0         SPY            302.5  2019-10-31 18:53:35        \n",
       "\n",
       "             Quote_Time_txt  Last_Trade_Date_txt           Expiry_txt  \n",
       "124279  2019-10-18 14:10:07  2019-10-18 13:36:49  2019-11-04 00:00:00  \n",
       "16013   2019-08-14 16:10:08  2019-08-14 15:44:54  2019-11-15 00:00:00  \n",
       "326158  2019-11-19 16:09:58  2019-11-19 15:33:06  2019-11-20 00:00:00  \n",
       "218773  2019-10-31 19:10:07  2019-10-31 18:53:35  2019-11-22 00:00:00  \n",
       "\n",
       "[4 rows x 21 columns]"
      ]
     },
     "execution_count": 5,
     "metadata": {},
     "output_type": "execute_result"
    }
   ],
   "source": [
    "import persist.sqlite_methods as pp\n",
    "\n",
    "df= pp.get_yahoo_option_dataframe(\"SPY\", \"2019-11\", \"\", \"\")\n",
    "df.columns\n",
    "df[df[\"Strike\"]==206]\n",
    "subset_df=df.iloc[(df['Strike'] - df['Underlying_Price']).abs().argsort()[:4]]\n",
    "subset_df"
   ]
  },
  {
   "cell_type": "code",
   "execution_count": 6,
   "metadata": {},
   "outputs": [
    {
     "data": {
      "text/plain": [
       "(353385, 21)"
      ]
     },
     "execution_count": 6,
     "metadata": {},
     "output_type": "execute_result"
    }
   ],
   "source": [
    "df.shape"
   ]
  },
  {
   "cell_type": "code",
   "execution_count": 7,
   "metadata": {},
   "outputs": [
    {
     "data": {
      "text/plain": [
       "<matplotlib.axes._subplots.AxesSubplot at 0x7f22c4565470>"
      ]
     },
     "execution_count": 7,
     "metadata": {},
     "output_type": "execute_result"
    },
    {
     "data": {
      "image/png": "[encoded data removed]",
      "text/plain": [
       "<Figure size 432x288 with 1 Axes>"
      ]
     },
     "metadata": {},
     "output_type": "display_data"
    }
   ],
   "source": [
    "df2 = df[(df.Strike == 285.0) & (df.Type == \"call\")]\n",
    "x_col = 'Quote_Time'\n",
    "y_cols = ['Ask','Bid','Last']\n",
    "df2=df2.loc[:,[x_col] + y_cols].dropna()\n",
    "df2.loc[:,y_cols] \\\n",
    "    = df2.loc[:,y_cols].apply(pd.to_numeric, errors='coerce')\n",
    "df2.loc[:,x_col]=pd.to_datetime(df2.loc[:,x_col], format=\"%Y-%m-%d %H:%M:%S\")\n",
    "df2.index = df2[x_col]\n",
    "del df2[x_col]\n",
    "df2.plot()"
   ]
  }
 ],
 "metadata": {
  "kernelspec": {
   "display_name": "Python 3",
   "language": "python",
   "name": "python3"
  },
  "language_info": {
   "codemirror_mode": {
    "name": "ipython",
    "version": 3
   },
   "file_extension": ".py",
   "mimetype": "text/x-python",
   "name": "python",
   "nbconvert_exporter": "python",
   "pygments_lexer": "ipython3",
   "version": "3.6.8"
  }
 },
 "nbformat": 4,
 "nbformat_minor": 2
}
